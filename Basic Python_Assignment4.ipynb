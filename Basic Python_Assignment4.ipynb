{
 "cells": [
  {
   "cell_type": "code",
   "execution_count": null,
   "id": "6bec5952",
   "metadata": {},
   "outputs": [],
   "source": [
    "# Que 1. What exactly is []?"
   ]
  },
  {
   "cell_type": "code",
   "execution_count": 54,
   "id": "04cf1ae4",
   "metadata": {},
   "outputs": [],
   "source": [
    "# These are called square brackets or index brackets. One of its use is to declare a list variable. In this case this could\n",
    "# be used to pass an empty list variable.\n",
    "# These are also used for indexing and slicing."
   ]
  },
  {
   "cell_type": "code",
   "execution_count": null,
   "id": "d2811d9a",
   "metadata": {},
   "outputs": [],
   "source": []
  },
  {
   "cell_type": "code",
   "execution_count": null,
   "id": "3dff84ad",
   "metadata": {},
   "outputs": [],
   "source": [
    "# Que 2. In a list of values stored in a variable called spam, how would you assign the value 'hello' as the third value? \n",
    "# (Assume [2, 4, 6, 8, 10] are in spam.)"
   ]
  },
  {
   "cell_type": "code",
   "execution_count": null,
   "id": "72ffdbcd",
   "metadata": {},
   "outputs": [],
   "source": [
    "# Ans: spam[2]='hello' in case if we replace the third value.\n",
    "# spam.insert(2, \"hello\") in case if we don't want to remove any value."
   ]
  },
  {
   "cell_type": "code",
   "execution_count": null,
   "id": "d3cbcc42",
   "metadata": {},
   "outputs": [],
   "source": []
  },
  {
   "cell_type": "code",
   "execution_count": null,
   "id": "554a669f",
   "metadata": {},
   "outputs": [],
   "source": [
    "# Let's pretend the spam includes the list ['a', 'b', 'c', 'd'] for the next three queries.\n",
    "\n",
    "# Que.3. What is the value of spam[int(int('3' * 2) / 11)]?"
   ]
  },
  {
   "cell_type": "code",
   "execution_count": null,
   "id": "2d796cf5",
   "metadata": {},
   "outputs": [],
   "source": [
    "# Ans: 'd'"
   ]
  },
  {
   "cell_type": "code",
   "execution_count": null,
   "id": "4c95d237",
   "metadata": {},
   "outputs": [],
   "source": []
  },
  {
   "cell_type": "code",
   "execution_count": null,
   "id": "7ccfea05",
   "metadata": {},
   "outputs": [],
   "source": [
    "# Que 4. What is the value of spam[-1]?"
   ]
  },
  {
   "cell_type": "code",
   "execution_count": null,
   "id": "9ef34595",
   "metadata": {},
   "outputs": [],
   "source": [
    "# Ans: 'd'"
   ]
  },
  {
   "cell_type": "code",
   "execution_count": null,
   "id": "8e45de46",
   "metadata": {},
   "outputs": [],
   "source": []
  },
  {
   "cell_type": "code",
   "execution_count": null,
   "id": "845dc23a",
   "metadata": {},
   "outputs": [],
   "source": [
    "# Que 5. What is the value of spam[:2]?"
   ]
  },
  {
   "cell_type": "code",
   "execution_count": null,
   "id": "96352939",
   "metadata": {},
   "outputs": [],
   "source": [
    "# Ans: ['a', 'b']"
   ]
  },
  {
   "cell_type": "code",
   "execution_count": null,
   "id": "215d0107",
   "metadata": {},
   "outputs": [],
   "source": []
  },
  {
   "cell_type": "code",
   "execution_count": null,
   "id": "3b1f86d8",
   "metadata": {},
   "outputs": [],
   "source": [
    "# Let's pretend bacon has the list [3.14, 'cat,' 11, 'cat,' True] for the next three questions.\n",
    "\n",
    "# Que 6. What is the value of bacon.index('cat')?"
   ]
  },
  {
   "cell_type": "code",
   "execution_count": null,
   "id": "a8a2a2b1",
   "metadata": {},
   "outputs": [],
   "source": [
    "# Ans: 1"
   ]
  },
  {
   "cell_type": "code",
   "execution_count": null,
   "id": "7de8b719",
   "metadata": {},
   "outputs": [],
   "source": []
  },
  {
   "cell_type": "code",
   "execution_count": null,
   "id": "5780568d",
   "metadata": {},
   "outputs": [],
   "source": [
    "# Que 7. How does bacon.append(99) change the look of the list value in bacon?"
   ]
  },
  {
   "cell_type": "code",
   "execution_count": null,
   "id": "d338809a",
   "metadata": {},
   "outputs": [],
   "source": [
    "# Ans: It will add the value 99 at the end. The new list will look like [3.14, 'cat,' 11, 'cat,' True, 99]"
   ]
  },
  {
   "cell_type": "code",
   "execution_count": null,
   "id": "ec934db6",
   "metadata": {},
   "outputs": [],
   "source": []
  },
  {
   "cell_type": "code",
   "execution_count": null,
   "id": "8db07526",
   "metadata": {},
   "outputs": [],
   "source": [
    "# Que 8. How does bacon.remove('cat') change the look of the list in bacon?"
   ]
  },
  {
   "cell_type": "code",
   "execution_count": null,
   "id": "60e51712",
   "metadata": {},
   "outputs": [],
   "source": [
    "# Ans: It will remove the value 'cat'. The new list will look like [3.14, 11, 'cat,' True]"
   ]
  },
  {
   "cell_type": "code",
   "execution_count": null,
   "id": "5fa4d190",
   "metadata": {},
   "outputs": [],
   "source": []
  },
  {
   "cell_type": "code",
   "execution_count": null,
   "id": "ce83d048",
   "metadata": {},
   "outputs": [],
   "source": [
    "# Que 9. What are the list concatenation and list replication operators?"
   ]
  },
  {
   "cell_type": "code",
   "execution_count": null,
   "id": "f9fa64cd",
   "metadata": {},
   "outputs": [],
   "source": [
    "# Ans: The operator used for list concatenation is '+', while the operator used for list replication is '*'. \n",
    "#      In list concatenation, two or more different types of lists can be concatenated while in list replication, \n",
    "#      the same list is replicated a multiple number of times."
   ]
  },
  {
   "cell_type": "code",
   "execution_count": null,
   "id": "721ee03c",
   "metadata": {},
   "outputs": [],
   "source": []
  },
  {
   "cell_type": "code",
   "execution_count": null,
   "id": "4176dabe",
   "metadata": {},
   "outputs": [],
   "source": [
    "# Que 10. What is difference between the list methods append() and insert()?"
   ]
  },
  {
   "cell_type": "code",
   "execution_count": null,
   "id": "4b94ea83",
   "metadata": {},
   "outputs": [],
   "source": [
    "# Ans: Append() function adds the values at the last index of the list variable i.e. at index of -1. \n",
    "#     e.g. of apped() is question number 7.  \n",
    "#     While, insert() function allows the user to insert the value at any index location in the list.  \n",
    "#     e.g. of insert() is question number 2."
   ]
  },
  {
   "cell_type": "code",
   "execution_count": null,
   "id": "4d27d4f3",
   "metadata": {},
   "outputs": [],
   "source": []
  },
  {
   "cell_type": "code",
   "execution_count": null,
   "id": "cefffd2e",
   "metadata": {},
   "outputs": [],
   "source": [
    "# Que 11. What are the two methods for removing items from a list?"
   ]
  },
  {
   "cell_type": "code",
   "execution_count": 2,
   "id": "a5210c73",
   "metadata": {},
   "outputs": [],
   "source": [
    "# Ans: Two most commonly used methods are pop() and remove().\n",
    "# pop() uses index position as an input to remove a value.\n",
    "# remove() uses the value as an input which is to be removed."
   ]
  },
  {
   "cell_type": "code",
   "execution_count": null,
   "id": "1f9c1e39",
   "metadata": {},
   "outputs": [],
   "source": []
  },
  {
   "cell_type": "code",
   "execution_count": null,
   "id": "cd5d42b9",
   "metadata": {},
   "outputs": [],
   "source": [
    "# Que 12. Describe how list values and string values are identical."
   ]
  },
  {
   "cell_type": "code",
   "execution_count": null,
   "id": "934a52ea",
   "metadata": {},
   "outputs": [],
   "source": [
    "# We can store same values in list as well as tuple. Type casting of list variable to a tuple or vice-versa can easily be\n",
    "# done by using tuple(variable_name) or list(variable_name). However, one thing to keep in mind is list variable are mutable\n",
    "# while tuple variables are immutable."
   ]
  },
  {
   "cell_type": "code",
   "execution_count": null,
   "id": "b5680b51",
   "metadata": {},
   "outputs": [],
   "source": []
  },
  {
   "cell_type": "code",
   "execution_count": null,
   "id": "af7ab97a",
   "metadata": {},
   "outputs": [],
   "source": [
    "# Que 13. What's the difference between tuples and lists?"
   ]
  },
  {
   "cell_type": "code",
   "execution_count": null,
   "id": "c6042284",
   "metadata": {},
   "outputs": [],
   "source": [
    "# Ans: One of the main difference between tuple and list is that list is mutable, while tuple is immutable. \n",
    "#     This means, we can change the values inside a list but same thing is not possible in tuple varialbe. \n",
    "#     () is used to create a tuple variable while [] is used to create a list variable. \n",
    "#     On comparison, list variable consumes more space than tuple variable"
   ]
  },
  {
   "cell_type": "code",
   "execution_count": null,
   "id": "fd8a4d78",
   "metadata": {},
   "outputs": [],
   "source": []
  },
  {
   "cell_type": "code",
   "execution_count": null,
   "id": "1e41fc19",
   "metadata": {},
   "outputs": [],
   "source": [
    "# Que 14. How do you type a tuple value that only contains the integer 42?"
   ]
  },
  {
   "cell_type": "code",
   "execution_count": null,
   "id": "d41e5cf0",
   "metadata": {},
   "outputs": [],
   "source": [
    "# Ans: Follow the below code\n",
    "# z = [42]\n",
    "# z = tuple(z)\n",
    "\n",
    "# or \n",
    "\n",
    "# z = (42,)"
   ]
  },
  {
   "cell_type": "code",
   "execution_count": null,
   "id": "32e2833e",
   "metadata": {},
   "outputs": [],
   "source": []
  },
  {
   "cell_type": "code",
   "execution_count": null,
   "id": "496f3527",
   "metadata": {},
   "outputs": [],
   "source": [
    "# Que 15. How do you get a list value's tuple form? How do you get a tuple value's list form?"
   ]
  },
  {
   "cell_type": "code",
   "execution_count": null,
   "id": "af15c757",
   "metadata": {},
   "outputs": [],
   "source": [
    "# we can simple save the same varible in list form or tuple form as per the requirement\n",
    "# Let's say a is 'A' list variable. We can change it's type to tuple by simply writing below code\n",
    "# A = tuple(A)\n",
    "# Similarly, we can change a tuple variable to list by writing below code\n",
    "# A = list(A)"
   ]
  },
  {
   "cell_type": "code",
   "execution_count": null,
   "id": "eeda61a1",
   "metadata": {},
   "outputs": [],
   "source": []
  },
  {
   "cell_type": "code",
   "execution_count": null,
   "id": "87b0c308",
   "metadata": {},
   "outputs": [],
   "source": [
    "# Que 16. Variables that \"contain\" list values are not necessarily lists themselves. Instead, what do they contain?"
   ]
  },
  {
   "cell_type": "code",
   "execution_count": null,
   "id": "da538116",
   "metadata": {},
   "outputs": [],
   "source": [
    "# Ans: They contain reference to list values"
   ]
  },
  {
   "cell_type": "code",
   "execution_count": null,
   "id": "b3528eff",
   "metadata": {},
   "outputs": [],
   "source": []
  },
  {
   "cell_type": "code",
   "execution_count": null,
   "id": "5b1c4f92",
   "metadata": {},
   "outputs": [],
   "source": [
    "# Que 17. How do you distinguish between copy.copy() and copy.deepcopy()?"
   ]
  },
  {
   "cell_type": "code",
   "execution_count": null,
   "id": "e926e4a9",
   "metadata": {},
   "outputs": [],
   "source": [
    "# Ans: In shallow copy, a copy of the original object is stored and only the reference address is finally copied. While,\n",
    "# in deep copy, the copy of the original object and the repetitive copies both are stored\n",
    "# In shallow copy, the changes made to the copied object also reflect the original object. However,\n",
    "# this is not the case with deep copy. Deep copy does the reflect the changes made to the copied object on the original object."
   ]
  }
 ],
 "metadata": {
  "kernelspec": {
   "display_name": "Python 3 (ipykernel)",
   "language": "python",
   "name": "python3"
  },
  "language_info": {
   "codemirror_mode": {
    "name": "ipython",
    "version": 3
   },
   "file_extension": ".py",
   "mimetype": "text/x-python",
   "name": "python",
   "nbconvert_exporter": "python",
   "pygments_lexer": "ipython3",
   "version": "3.9.12"
  }
 },
 "nbformat": 4,
 "nbformat_minor": 5
}
